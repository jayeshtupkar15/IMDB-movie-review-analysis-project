{
 "cells": [
  {
   "cell_type": "code",
   "execution_count": null,
   "id": "6d7f406c-bc67-40a2-a08e-1672a977cfc9",
   "metadata": {},
   "outputs": [],
   "source": []
  }
 ],
 "metadata": {
  "kernelspec": {
   "display_name": "Python 3 (ipykernel)",
   "language": "python",
   "name": "python3"
  },
  "language_info": {
   "name": ""
  }
 },
 "nbformat": 4,
 "nbformat_minor": 5
}
